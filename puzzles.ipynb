{
 "cells": [
  {
   "cell_type": "markdown",
   "id": "6b12ae75",
   "metadata": {},
   "source": [
    "# LLM Training Puzzles\n",
    "\n",
    "by Sasha Rush ([@srush_nlp](https://twitter.com/srush_nlp))"
   ]
  },
  {
   "cell_type": "code",
   "execution_count": null,
   "id": "48a6e1c3",
   "metadata": {},
   "outputs": [],
   "source": [
    "%%capture\n",
    "# Uncomment to run in Colab\n",
    "!pip install -qqq git+https://github.com/chalk-diagrams/chalk asyncio\n",
    "!wget https://raw.githubusercontent.com/srush/LLM-Training-Puzzles/main/lib.py https://raw.githubusercontent.com/srush/LLM-Training-Puzzles/main/drawing.py"
   ]
  },
  {
   "cell_type": "code",
   "execution_count": null,
   "id": "8b51771c",
   "metadata": {},
   "outputs": [],
   "source": [
    "from typing import List\n",
    "from lib import Model, Dist, WeightGrad\n",
    "from drawing import draw, draw_group\n",
    "from chalk import vcat\n",
    "import asyncio\n",
    "import chalk\n",
    "chalk.set_svg_height(400)\n",
    "chalk.set_svg_draw_height(600)"
   ]
  },
  {
   "cell_type": "markdown",
   "id": "6d89a0cc",
   "metadata": {},
   "source": [
    "## Preliminaries\n",
    "\n",
    "The goal of these puzzles is to learn about distributed training of LLMs. However, we will be primarily concerned with a speed and memory efficiency of completing a single update of the models. To make things simpler, we will abstract away from the standard tensor-based transformer model, and just consider a state-less representation of each of the components of a multi-layer neural network.\n",
    "\n"
   ]
  },
  {
   "cell_type": "code",
   "execution_count": null,
   "id": "456b1cdb",
   "metadata": {},
   "outputs": [],
   "source": [
    "model = Model(layers=2, batches=4)\n",
    "weights, opt_states, activations, grad_activations, grad_weights = model.storage()"
   ]
  },
  {
   "cell_type": "markdown",
   "id": "7554f004",
   "metadata": {},
   "source": [
    "Our library has 5 parts: \n",
    "\n",
    "* Weights\n",
    "* Optimizer States - Values needed to update the weights\n",
    "* Activations - The internal values computed on the forward pass\n",
    "* Grad Activations - The gradients of the loss wrt to activations, needed for backward pass\n",
    "* Grad Weights - The gradients of the loss wrt to weights, needed for updates\n",
    "\n",
    "For these puzzles, you are *not allowed* to have local variables. You need to store each of these in the dictionary corresponding to its type.                      \n",
    "\n",
    "We begin by tracing the lifecycle of a single model update."
   ]
  },
  {
   "cell_type": "code",
   "execution_count": null,
   "id": "8564d700",
   "metadata": {},
   "outputs": [],
   "source": [
    "# Get the input activations to the model for batches 2, 3 \n",
    "activations[0] = model.get_activation(batches=[2, 3])\n",
    "activations[0]"
   ]
  },
  {
   "cell_type": "code",
   "execution_count": null,
   "id": "20c10e56",
   "metadata": {},
   "outputs": [],
   "source": [
    "# Load the weights (random) for layers 0 and 1\n",
    "for i in range(model.LAYERS):\n",
    "    weights[i], opt_states[i] = model.load_weights(i)\n",
    "weights[0]"
   ]
  },
  {
   "cell_type": "code",
   "execution_count": null,
   "id": "a7a20e8b",
   "metadata": {},
   "outputs": [],
   "source": [
    "# Activations can be moved forward a layer if you have the weights.\n",
    "activations[1] = model.forward(layer=0, inp=activations[0], weight=weights[0])\n",
    "activations[2] = model.forward(layer=1, inp=activations[1], weight=weights[1])\n",
    "activations[1]"
   ]
  },
  {
   "cell_type": "code",
   "execution_count": null,
   "id": "64422d30",
   "metadata": {},
   "outputs": [],
   "source": [
    "# Draw all the current activations in memory.\n",
    "draw_group(activations)"
   ]
  },
  {
   "cell_type": "code",
   "execution_count": null,
   "id": "3df3690c",
   "metadata": {},
   "outputs": [],
   "source": [
    "# At the last layer, we can convert an activation to a grad activation by calling `loss`\n",
    "grad_activations[model.LAYERS] = model.loss(activations[model.LAYERS])\n",
    "grad_activations[model.LAYERS]"
   ]
  },
  {
   "cell_type": "code",
   "execution_count": null,
   "id": "decd7d97",
   "metadata": {},
   "outputs": [],
   "source": [
    "# Calling `backward` requires the forward activation, the backward grad activation, and the weights.\n",
    "# It returns the grad weights and the backward activation.\n",
    "grad_weights[1], grad_activations[1] = model.backward(1, activations[1], grad_activations[2], weights[1])\n",
    "grad_weights[0], grad_activations[0] = model.backward(0, activations[0], grad_activations[1], weights[0])\n",
    "grad_activations[1]"
   ]
  },
  {
   "cell_type": "code",
   "execution_count": null,
   "id": "2df6ea76",
   "metadata": {},
   "outputs": [],
   "source": [
    "# We can use delete to remove any memory that is not longer needed. \n",
    "print(\"Before memory:\", model.memory())\n",
    "del grad_activations[1]\n",
    "print(\"After memory:\", model.memory())\n",
    "\n",
    "draw_group(grad_activations)"
   ]
  },
  {
   "cell_type": "code",
   "execution_count": null,
   "id": "d8b6d445",
   "metadata": {},
   "outputs": [],
   "source": [
    "# Grad weights keep track of which batches they are for. Here we only have the grad weights for batches 2 and 3.\n",
    "draw_group(grad_weights)"
   ]
  },
  {
   "cell_type": "code",
   "execution_count": null,
   "id": "b98fad9c",
   "metadata": {},
   "outputs": [],
   "source": [
    "# If we try to update with the grad weights we will get an error.\n",
    "try:\n",
    "    model.update(0, weight_grad=grad_weights[0], weight=weights[0], opt_state=opt_states[0])\n",
    "except AssertionError as e:\n",
    "    print(\"Error! Only have batches\")\n",
    "    print(e)"
   ]
  },
  {
   "cell_type": "code",
   "execution_count": null,
   "id": "36051c21",
   "metadata": {
    "lines_to_next_cell": 2
   },
   "outputs": [],
   "source": [
    "# For this example, we can cheat. Pretend we had the other gradients we needed. \n",
    "grad_weights[0, 0] = model.fake_grad(0, [0,1])\n",
    "grad_weights[1, 0] = model.fake_grad(1, [0,1])\n",
    "grad_weights[0, 0] "
   ]
  },
  {
   "cell_type": "code",
   "execution_count": null,
   "id": "8c7d3585",
   "metadata": {},
   "outputs": [],
   "source": [
    "# Summing together grad_weights gives the full gradient.\n",
    "grad_weights[0] = grad_weights[0] + grad_weights[0, 0]"
   ]
  },
  {
   "cell_type": "code",
   "execution_count": null,
   "id": "87d2c137",
   "metadata": {
    "lines_to_next_cell": 2
   },
   "outputs": [],
   "source": [
    "# Now we can call update to the get the new weights and opt_state.\n",
    "weights[0], opt_states[0] = model.update(0, weight_grad=grad_weights[0], weight=weights[0], \n",
    "                                         opt_state=opt_states[0])\n",
    "weights[1], opt_states[1] = model.update(1, weight_grad=grad_weights[1] + grad_weights[1, 0], \n",
    "                                         weight=weights[1], opt_state=opt_states[1])"
   ]
  },
  {
   "cell_type": "code",
   "execution_count": null,
   "id": "17d7a639",
   "metadata": {},
   "outputs": [],
   "source": [
    "# We can complete the tests by setting these as the final weights and calling check.\n",
    "model.set_final_weight(0, weights[0])\n",
    "model.set_final_weight(1, weights[1])\n",
    "model.check([model])\n",
    "draw_group(model.final_weights)"
   ]
  },
  {
   "cell_type": "code",
   "execution_count": null,
   "id": "3ede86ef",
   "metadata": {},
   "outputs": [],
   "source": [
    "# We can view the final outcome of the system as a diagram. \n",
    "# This show the forward and backward passes (numbers of batches) and the updates.\n",
    "# The lines on the bottom show the memory that is used at each time step.\n",
    "draw([model])"
   ]
  },
  {
   "cell_type": "code",
   "execution_count": null,
   "id": "f18a6461",
   "metadata": {},
   "outputs": [],
   "source": []
  },
  {
   "cell_type": "markdown",
   "id": "333efc69",
   "metadata": {},
   "source": [
    "### Puzzle 0 - Standard Training\n",
    "\n",
    "Write a standard (non-distributed) training loop that acts on all the batches and loads all the weights. It should just run forward, loss, backward, and update. Aim for the least amount of max memory used. "
   ]
  },
  {
   "cell_type": "code",
   "execution_count": null,
   "id": "c6862cbc",
   "metadata": {},
   "outputs": [],
   "source": [
    "def basic(model: Model) -> Model:\n",
    "    # Storage on device.\n",
    "    weights, opt_states, activations, grad_activations, grad_weights = model.storage()\n",
    "\n",
    "    # Load in the full weights\n",
    "    for l in range(model.LAYERS):\n",
    "        weights[l], opt_states[l] = model.load_weights(l)\n",
    "\n",
    "    # Load the input layer activations\n",
    "    activations[0] = model.get_activation(range(model.BATCHES))\n",
    "\n",
    "    assert False, 'TODO: Implement me'\n",
    "    ## END USER CODE\n",
    "    \n",
    "    for l in range(model.LAYERS):\n",
    "        model.set_final_weight(l, weights[l])\n",
    "    return model"
   ]
  },
  {
   "cell_type": "code",
   "execution_count": null,
   "id": "d3f88295",
   "metadata": {},
   "outputs": [],
   "source": [
    "out = basic(Model(layers=2, batches=4, rank=0, dist=Dist(1)))\n",
    "draw_group(out.final_weights)\n",
    "\n"
   ]
  },
  {
   "cell_type": "code",
   "execution_count": null,
   "id": "ea3fbbbf",
   "metadata": {},
   "outputs": [],
   "source": [
    "draw([out])"
   ]
  },
  {
   "cell_type": "code",
   "execution_count": null,
   "id": "d15d9e8b",
   "metadata": {},
   "outputs": [],
   "source": [
    "Model.check([out])"
   ]
  },
  {
   "cell_type": "markdown",
   "id": "fb5b451e",
   "metadata": {},
   "source": [
    "### Puzzle 1 - Gradient Accumulation\n",
    "\n",
    "For this puzzle, the goal is to reduce max memory usage. To do so you are going to run on each batch individually instead of all together. \n",
    "\n",
    "Write a function with four parts. First run on batches {0} and then {1} etc. Sum the grad weights and then update."
   ]
  },
  {
   "cell_type": "code",
   "execution_count": null,
   "id": "2c7436d8",
   "metadata": {},
   "outputs": [],
   "source": [
    "def grad_accum(model: Model) -> Model:\n",
    "    # Storage on device.\n",
    "    weights, opt_states, activations, grad_activations, grad_weights = model.storage()\n",
    "\n",
    "    # Load in the full weights\n",
    "    for l in range(model.LAYERS):\n",
    "        weights[l], opt_states[l] = model.load_weights(l)\n",
    "\n",
    "    assert False, 'TODO: Implement me'\n",
    "    ## END USER CODE\n",
    "    for l in range(model.LAYERS):\n",
    "        model.set_final_weight(l, weights[l])\n",
    "    return model\n",
    "\n"
   ]
  },
  {
   "cell_type": "code",
   "execution_count": null,
   "id": "0e4cf102",
   "metadata": {},
   "outputs": [],
   "source": [
    "out = grad_accum(Model(layers=2, batches=4, rank=0, dist=Dist(1)))\n",
    "draw_group(out.final_weights)"
   ]
  },
  {
   "cell_type": "code",
   "execution_count": null,
   "id": "1b442ab2",
   "metadata": {},
   "outputs": [],
   "source": [
    "draw([out])"
   ]
  },
  {
   "cell_type": "code",
   "execution_count": null,
   "id": "75102cca",
   "metadata": {},
   "outputs": [],
   "source": [
    "model.check([out])"
   ]
  },
  {
   "cell_type": "markdown",
   "id": "c1f842d9",
   "metadata": {},
   "source": [
    "## Communications: AllReduce"
   ]
  },
  {
   "cell_type": "markdown",
   "id": "aebbf4bf",
   "metadata": {},
   "source": [
    "When working with multiple GPUs we need to have communication. \n",
    "The primary communication primitives for GPUs are implemented in NCCL. \n",
    "\n",
    "https://docs.nvidia.com/deeplearning/nccl/user-guide/docs/usage/operations.html\n",
    "\n",
    "We are not going to use these directly, but simulate them using Python and asyncio. \n",
    "\n",
    "The first operation is AllReduce. We will have 4 GPUs (ranks=4) and use them each to compute a batch of weight grads."
   ]
  },
  {
   "cell_type": "code",
   "execution_count": null,
   "id": "5b2e3f7e",
   "metadata": {},
   "outputs": [],
   "source": [
    "ranks = 4\n",
    "weight_grads = [WeightGrad(0, 1, {i}, ranks) for i in range(ranks)]\n",
    "weight_grads[0] + weight_grads[1] + weight_grads[2] + weight_grads[3]"
   ]
  },
  {
   "cell_type": "code",
   "execution_count": null,
   "id": "95961359",
   "metadata": {},
   "outputs": [],
   "source": [
    "# Simple asynchronous function that calls allreduce to sum the weight grads at layer 0\n",
    "async def myfunc(model: Model) -> WeightGrad:\n",
    "    return await model.allreduce(weight_grads[model.rank], 0)"
   ]
  },
  {
   "cell_type": "code",
   "execution_count": null,
   "id": "91a87d24",
   "metadata": {},
   "outputs": [],
   "source": [
    "# This code uses asyncio to run the above function on 4 \"GPUs\" .\n",
    "dist = Dist(ranks)\n",
    "out_weight_grads = await asyncio.gather(*[\n",
    "    myfunc(Model(layers=1, batches=1, rank=i, dist=dist))\n",
    "    for i in range(ranks)])\n",
    "out_weight_grads[0]"
   ]
  },
  {
   "cell_type": "markdown",
   "id": "d2eb79a7",
   "metadata": {},
   "source": [
    "Note: When running communication operations like AllReduce on a GPU, the communication happens in parallel to the computation on that GPU. That means the API for AllReduce does not block, and allows the model to continue running while waiting for this command to run. This means it is beneficial to run AllReduce (and other communication) as early as possible so that other compute can be run during the reduction. \n",
    "\n",
    "We will ignore this in these puzzles and represent communication as happening efficiently."
   ]
  },
  {
   "cell_type": "markdown",
   "id": "8630fc15",
   "metadata": {},
   "source": [
    "### Puzzle 2 - Distributed Data Parallel\n",
    "\n",
    "Write a function with four parts. First run on batches {0} and then {1} etc. Sum the grad weights and then update. The main benefit of this approach is compute efficiency over gradient accumulation."
   ]
  },
  {
   "cell_type": "code",
   "execution_count": null,
   "id": "fffdc3f6",
   "metadata": {
    "lines_to_next_cell": 2
   },
   "outputs": [],
   "source": [
    "async def ddp(model: Model) -> Model:\n",
    "    # Storage on device.\n",
    "    weights, opt_states, activations, grad_activations, grad_weights = model.storage()\n",
    "    # Load all the activations\n",
    "    model.activations[0] = model.get_activation([model.rank])\n",
    "\n",
    "    assert False, 'TODO: Implement me'\n",
    "    ## END USER CODE\n",
    "\n",
    "    return model"
   ]
  },
  {
   "cell_type": "code",
   "execution_count": null,
   "id": "64b5bd0e",
   "metadata": {},
   "outputs": [],
   "source": [
    "dist = Dist(ranks)\n",
    "out = await asyncio.gather(*[\n",
    "    ddp(Model(layers=2, batches=ranks, rank=i, dist=dist))\n",
    "    for i in range(ranks)])\n",
    "draw_group(out[0].final_weights)"
   ]
  },
  {
   "cell_type": "code",
   "execution_count": null,
   "id": "b179b1c4",
   "metadata": {},
   "outputs": [],
   "source": [
    "draw(out)"
   ]
  },
  {
   "cell_type": "code",
   "execution_count": null,
   "id": "5d24e4ad",
   "metadata": {},
   "outputs": [],
   "source": [
    "model.check(out)"
   ]
  },
  {
   "cell_type": "markdown",
   "id": "a3243774",
   "metadata": {},
   "source": [
    "## Communication: AllGather / Sharding\n",
    "\n",
    "Our next primitive is AllGather. This allows us to communicate \"shards\" of an object stored on different GPUs to all the GPUs."
   ]
  },
  {
   "cell_type": "code",
   "execution_count": null,
   "id": "a130e9d4",
   "metadata": {},
   "outputs": [],
   "source": [
    "# Load only part of a weights.\n",
    "model = Model(layers=2, batches=1, rank=0, dist=Dist(1))\n",
    "weight, _ = model.load_weights(0, shard=0, total=4)\n",
    "weight"
   ]
  },
  {
   "cell_type": "code",
   "execution_count": null,
   "id": "2f34ebdf",
   "metadata": {},
   "outputs": [],
   "source": [
    "# Combine togegher two shards on one machine.\n",
    "weights = [model.load_weights(0, shard=i, total=ranks)[0] for i in range(ranks)]\n",
    "weights[0].combine(weights[2])"
   ]
  },
  {
   "cell_type": "code",
   "execution_count": null,
   "id": "183b7866",
   "metadata": {},
   "outputs": [],
   "source": [
    "# Use allgather to collect the shards from all machines.\n",
    "async def mygather(model: Model) -> WeightGrad:\n",
    "    # Allreduce sums together all the weight grads\n",
    "    return await model.allgather(weights[model.rank], 0)\n",
    "\n",
    "dist = Dist(ranks)\n",
    "out_weights = await asyncio.gather(*[\n",
    "    mygather(Model(layers=1, batches=1, rank=i, dist=dist))\n",
    "    for i in range(ranks)])\n",
    "out_weights[0]"
   ]
  },
  {
   "cell_type": "markdown",
   "id": "09aaaa17",
   "metadata": {},
   "source": [
    "### Puzzle 3: Weight-Sharded Data Parallel\n",
    "\n",
    "Run a model that shards each layer weight over all the machines. Reconstruct the layer weight at each layer using allgather. Finally update the weights on each machine using allreduce."
   ]
  },
  {
   "cell_type": "code",
   "execution_count": null,
   "id": "09059018",
   "metadata": {},
   "outputs": [],
   "source": [
    "async def wsdp(model: Model) -> Model:\n",
    "    # Storage on device.\n",
    "    weights, opt_states, activations, grad_activations, grad_weights = model.storage()\n",
    "\n",
    "    # Load all the activations\n",
    "    model.activations[0] = model.get_activation([model.rank])\n",
    "\n",
    "    # Load a shard of the weights for every layer. Load in the full weights\n",
    "    for l in range(model.LAYERS):\n",
    "        weights[l], opt_states[l] = model.load_weights(l, model.rank, model.RANKS) \n",
    "\n",
    "    assert False, 'TODO: Implement me'\n",
    "    ## END USER CODE\n",
    "    return model"
   ]
  },
  {
   "cell_type": "code",
   "execution_count": null,
   "id": "951a489d",
   "metadata": {},
   "outputs": [],
   "source": [
    "dist = Dist(ranks)\n",
    "out = await asyncio.gather(*[\n",
    "    wsdp(Model(layers=2, batches=ranks, rank=i, dist=dist))\n",
    "    for i in range(ranks)])\n",
    "draw_group(out[1].final_weights)"
   ]
  },
  {
   "cell_type": "code",
   "execution_count": null,
   "id": "aee6b296",
   "metadata": {},
   "outputs": [],
   "source": [
    "draw(out)"
   ]
  },
  {
   "cell_type": "code",
   "execution_count": null,
   "id": "ab5d079a",
   "metadata": {},
   "outputs": [],
   "source": [
    "model.check(out)"
   ]
  },
  {
   "cell_type": "markdown",
   "id": "a52f80be",
   "metadata": {},
   "source": [
    "## Communication: Scatter-Reduce"
   ]
  },
  {
   "cell_type": "markdown",
   "id": "a8006fa8",
   "metadata": {},
   "source": [
    "Scatter across shards\n",
    "Reduce across batches"
   ]
  },
  {
   "cell_type": "code",
   "execution_count": null,
   "id": "c819172f",
   "metadata": {},
   "outputs": [],
   "source": [
    "grad_weight = WeightGrad(0, 1, batches={1}, total_batches=4, \n",
    "                         shards={1}, total=4)\n",
    "grad_weight"
   ]
  },
  {
   "cell_type": "code",
   "execution_count": null,
   "id": "3f05c566",
   "metadata": {},
   "outputs": [],
   "source": [
    "grad_weights = {i: WeightGrad(0, 1, batches={i}, total_batches=4, \n",
    "                         shards={0,1,2,3}, total=4) for i in range(4)}\n",
    "grad_weights[2]"
   ]
  },
  {
   "cell_type": "code",
   "execution_count": null,
   "id": "3175a8e9",
   "metadata": {},
   "outputs": [],
   "source": [
    "async def scatterreduce(model: Model) -> WeightGrad:\n",
    "    # Allreduce sums together all the weight grads\n",
    "    return await model.scatterreduce(grad_weights[model.rank], 0)\n",
    "\n",
    "dist = Dist(ranks)\n",
    "out = await asyncio.gather(*[\n",
    "    scatterreduce(Model(layers=1, batches=1, rank=i, dist=dist))\n",
    "    for i in range(ranks)])\n",
    "out[0]"
   ]
  },
  {
   "cell_type": "code",
   "execution_count": null,
   "id": "14807b10",
   "metadata": {},
   "outputs": [],
   "source": []
  },
  {
   "cell_type": "markdown",
   "id": "4380b6f9",
   "metadata": {},
   "source": [
    "### Puzzle 4: Fully-Sharded Data Parallel"
   ]
  },
  {
   "cell_type": "code",
   "execution_count": null,
   "id": "530ef9d5",
   "metadata": {
    "lines_to_next_cell": 2
   },
   "outputs": [],
   "source": [
    "async def fsdp(model: Model) -> Model:\n",
    "    # Storage on device.\n",
    "    weights, opt_states, activations, grad_activations, grad_weights = model.storage()\n",
    "\n",
    "    # Load all the activations\n",
    "    model.activations[0] = model.get_activation([model.rank])\n",
    "\n",
    "    # Load a shard of the weights for every layer. Load in the full weights\n",
    "    for l in range(model.LAYERS):\n",
    "        weights[l], opt_states[l] = model.load_weights(l, model.rank, model.RANKS) \n",
    "\n",
    "    assert False, 'TODO: Implement me'\n",
    "    ## END USER CODE\n",
    "    return model"
   ]
  },
  {
   "cell_type": "code",
   "execution_count": null,
   "id": "42248856",
   "metadata": {},
   "outputs": [],
   "source": [
    "dist = Dist(ranks)\n",
    "out = await asyncio.gather(*[\n",
    "    fsdp(Model(layers=6, batches=ranks, rank=i, dist=dist))\n",
    "    for i in range(ranks)])\n",
    "draw_group(out[1].final_weights)"
   ]
  },
  {
   "cell_type": "code",
   "execution_count": null,
   "id": "a0170292",
   "metadata": {},
   "outputs": [],
   "source": [
    "draw(out)"
   ]
  },
  {
   "cell_type": "code",
   "execution_count": null,
   "id": "040f5825",
   "metadata": {},
   "outputs": [],
   "source": [
    "model.check(out)"
   ]
  },
  {
   "cell_type": "markdown",
   "id": "6216ea95",
   "metadata": {},
   "source": [
    "## Communication: Point-to-Point\n",
    "\n",
    "An alternative approach to communication is to directly communicate specific information between GPUs. In our model, both GPUs talking to each other block and wait for the handoff. "
   ]
  },
  {
   "cell_type": "code",
   "execution_count": null,
   "id": "ede43457",
   "metadata": {
    "lines_to_next_cell": 2
   },
   "outputs": [],
   "source": [
    "async def talk(model: Model) -> None:\n",
    "    if model.rank == 0:\n",
    "        await model.pass_to(1, \"extra cheese\")\n",
    "        val = await model.receive()\n",
    "        print(val)\n",
    "    else:\n",
    "        val = await model.receive()\n",
    "        print(val)\n",
    "        val = await model.pass_to(0, \"pizza\")\n",
    "\n",
    "dist = Dist(2)\n",
    "result = await asyncio.gather(*[\n",
    "    talk(Model(layers=1, batches=1, rank=i, dist=dist))\n",
    "    for i in range(2)])"
   ]
  },
  {
   "cell_type": "markdown",
   "id": "da235a8f",
   "metadata": {},
   "source": [
    "### Puzzle 5: Pipeline Parallelism\n",
    "\n",
    "Split the layer weights and optimizers equally between GPUs. Have each GPU handle only its layer. Pass the full set of batches for activations and grad_activations between layers using p2p communication. No need for any global communication."
   ]
  },
  {
   "cell_type": "code",
   "execution_count": null,
   "id": "2c6838aa",
   "metadata": {
    "lines_to_next_cell": 2
   },
   "outputs": [],
   "source": [
    "async def pipeline(model: Model) -> Model:\n",
    "    weights, opt_states, activations, grad_activations, grad_weights = model.storage()\n",
    "    per_rank = model.LAYERS // model.RANKS\n",
    "    my_layers = list([l + (model.rank * per_rank) for l in range(per_rank)])\n",
    "    for l in my_layers:\n",
    "        weights[l], opt_states[l] = model.load_weights(l)\n",
    "    assert False, 'TODO: Implement me'\n",
    "    ## END USER CODE\n",
    "\n",
    "    return model"
   ]
  },
  {
   "cell_type": "code",
   "execution_count": null,
   "id": "c0ae5217",
   "metadata": {},
   "outputs": [],
   "source": [
    "dist = Dist(ranks)\n",
    "out = await asyncio.gather(*[\n",
    "    pipeline(Model(layers=8, batches=ranks, rank=i, dist=dist))\n",
    "    for i in range(ranks)])\n",
    "draw_group(out[1].final_weights)"
   ]
  },
  {
   "cell_type": "code",
   "execution_count": null,
   "id": "1782ff69",
   "metadata": {},
   "outputs": [],
   "source": [
    "draw(out)"
   ]
  },
  {
   "cell_type": "code",
   "execution_count": null,
   "id": "ae8c39ed",
   "metadata": {},
   "outputs": [],
   "source": [
    "model.check(out)"
   ]
  },
  {
   "cell_type": "markdown",
   "id": "e753a27f",
   "metadata": {},
   "source": [
    "### Puzzle 6: GPipe Schedule\n",
    "\n",
    "A major issue with the pipeline approach is that it causes a \"bubble\", i.e. time in the later layers waiting for the earlier layers to complete. An alternative approach is to split the batches smaller so you can pass them earlier. \n",
    "\n",
    "In this puzzle, you should run each batch by itself, and then pass. The graph should look similar as the one above but with a smaller bubble. "
   ]
  },
  {
   "cell_type": "code",
   "execution_count": null,
   "id": "6ddd53a0",
   "metadata": {
    "lines_to_next_cell": 2
   },
   "outputs": [],
   "source": [
    "async def gpipe(model: Model) -> Model:\n",
    "    weights, opt_states, activations, grad_activations, grad_weights = model.storage()\n",
    "    per_rank = model.LAYERS // model.RANKS\n",
    "    my_layers = list([l + (model.rank * per_rank) for l in range(per_rank)])\n",
    "    for l in my_layers:\n",
    "        weights[l], opt_states[l] = model.load_weights(l)\n",
    "\n",
    "    assert False, 'TODO: Implement me'\n",
    "    ## END USER CODE\n",
    "    return model"
   ]
  },
  {
   "cell_type": "code",
   "execution_count": null,
   "id": "2335323d",
   "metadata": {},
   "outputs": [],
   "source": [
    "dist = Dist(ranks)\n",
    "out = await asyncio.gather(*[\n",
    "    gpipe(Model(layers=8, batches=ranks, rank=i, dist=dist))\n",
    "    for i in range(ranks)])\n",
    "draw_group(out[1].final_weights)"
   ]
  },
  {
   "cell_type": "code",
   "execution_count": null,
   "id": "f0af64a2",
   "metadata": {},
   "outputs": [],
   "source": [
    "draw(out)"
   ]
  },
  {
   "cell_type": "code",
   "execution_count": null,
   "id": "68589d77",
   "metadata": {
    "lines_to_next_cell": 2
   },
   "outputs": [],
   "source": [
    "model.check(out)"
   ]
  },
  {
   "cell_type": "markdown",
   "id": "2c1f40af",
   "metadata": {},
   "source": [
    "### Puzzle 7: Pipeline + FSDP\n",
    "\n",
    "As a last exercise, we can put everything together. Here we are going to run a combination of pipeline parallelism while also sharding our weight between 16 different machines. Here the model only has 4 layers, so we will assign 4 GPUs to each layer in the pipeline parallel approach. \n",
    "\n",
    "This example requires combining both collective communication and p2p communication effectively. "
   ]
  },
  {
   "cell_type": "code",
   "execution_count": null,
   "id": "b67f9add",
   "metadata": {},
   "outputs": [],
   "source": [
    "async def pipeline_fsdp(model: Model) -> Model:\n",
    "    weights, opt_states, activations, grad_activations, grad_weights = model.storage()\n",
    "    per_rank = model.LAYERS // (model.RANKS // 4)\n",
    "    my_layers = list([l + ((model.rank % 4)  * per_rank) for l in range(per_rank)])\n",
    "    for l in range(model.LAYERS):\n",
    "        weights[l, 0], opt_states[l, 0] = model.load_weights(l, model.rank, model.RANKS)\n",
    "    def empty_grad(l):\n",
    "        return model.fake_grad(l, [])\n",
    "\n",
    "    # Forward\n",
    "    for l in range(model.LAYERS):        \n",
    "        if l == my_layers[0]:\n",
    "            if model.rank % 4 == 0:\n",
    "                activations[0] = model.get_activation([model.rank // 4])\n",
    "            else:\n",
    "                activations[l] = await model.receive()\n",
    "    \n",
    "        weights[l] = await model.allgather(weights[l, 0], l)\n",
    "        if l in my_layers:\n",
    "            activations[l + 1] = model.forward(l, activations[l], weights[l])\n",
    "        del weights[l]\n",
    "        if l == my_layers[-1]:\n",
    "            if model.rank % 4 == 3 :\n",
    "                grad_activations[model.LAYERS] = model.loss(\n",
    "                    activations[model.LAYERS]\n",
    "                )\n",
    "            else:\n",
    "                await model.pass_to(model.rank + 1, activations[l + 1])\n",
    "    # Backward\n",
    "\n",
    "    for l in reversed(range(model.LAYERS)):\n",
    "        if l == my_layers[-1]:\n",
    "            if model.rank % 4 != 3:\n",
    "                grad_activations[l + 1] = await model.receive()\n",
    "    \n",
    "        weights[l] = await model.allgather(weights[l, 0], l)\n",
    "        if l in my_layers:\n",
    "            grad_weights[l], grad_activations[l] = model.backward(\n",
    "                l, activations[l], grad_activations[l + 1], model.weights[l]\n",
    "            )\n",
    "            del grad_activations[l + 1], activations[l]\n",
    "            grad_weights[l] = await model.scatterreduce(grad_weights[l], l)\n",
    "        else:\n",
    "            grad_weights[l] = await model.scatterreduce(empty_grad(l), l)\n",
    "        del weights[l]\n",
    "\n",
    "        if model.rank % 4 != 0 and l == my_layers[0]:\n",
    "            await model.pass_to(model.rank - 1, grad_activations[l])\n",
    "    for l in range(model.LAYERS):\n",
    "        weights[l], opt_states[l] = model.update(l, grad_weights[l], weights[l, 0], opt_states[l, 0])\n",
    "        model.set_final_weight(l, weights[l])\n",
    "\n",
    "    # Update\n",
    "    return model"
   ]
  },
  {
   "cell_type": "code",
   "execution_count": null,
   "id": "bc4f4ad3",
   "metadata": {
    "lines_to_next_cell": 2
   },
   "outputs": [],
   "source": [
    "dist = Dist(16)\n",
    "out = await asyncio.gather(*[\n",
    "    pipeline_fsdp(Model(layers=4, batches=ranks, rank=i, dist=dist))\n",
    "    for i in range(16)])"
   ]
  },
  {
   "cell_type": "code",
   "execution_count": null,
   "id": "5d5e8aac",
   "metadata": {},
   "outputs": [],
   "source": [
    "model.check(out)\n",
    "chalk.set_svg_height(1000)\n",
    "chalk.set_svg_draw_height(1000) \n",
    "\n",
    "draw(out)"
   ]
  }
 ],
 "metadata": {
  "jupytext": {
   "cell_metadata_filter": "-all",
   "custom_cell_magics": "kql"
  },
  "kernelspec": {
   "display_name": "venv",
   "language": "python",
   "name": "python3"
  }
 },
 "nbformat": 4,
 "nbformat_minor": 5
}
